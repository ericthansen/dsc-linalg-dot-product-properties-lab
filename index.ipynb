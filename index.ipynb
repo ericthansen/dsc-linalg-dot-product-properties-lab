{
 "cells": [
  {
   "cell_type": "markdown",
   "metadata": {},
   "source": [
    "# Properties of Dot Product - Lab\n",
    "\n",
    "## Introduction\n",
    "\n",
    "In this lab, you'll be practicing some interesting properties of a dot product-type matrix multiplication. Understanding these properties will become useful as you study machine learning. The lab will require you to calculate results to provide a proof for these properties.\n",
    "\n",
    "## Objectives\n",
    "\n",
    "In this lab you will: \n",
    "\n",
    "- Demonstrate the distributive, commutative, and associative property of dot products \n",
    "- Use the transpose method to transpose Numpy matrices \n",
    "- Compute the dot product for matrices and vectors \n",
    "\n",
    "\n",
    "## Instructions\n",
    "\n",
    "* For each property, create suitably sized matrices with random data to prove the equations \n",
    "* Ensure that size/dimension assumptions are met while performing calculations (you'll see errors otherwise)\n",
    "* Calculate the LHS and RHS for all equations and show if they are equal or not\n",
    "\n",
    "## Distributive Property - matrix multiplication IS distributive\n",
    "\n",
    "### Prove that $A \\cdot (B+C) = (A \\cdot B + A \\cdot C) $"
   ]
  },
  {
   "cell_type": "code",
   "execution_count": 14,
   "metadata": {},
   "outputs": [
    {
     "name": "stdout",
     "output_type": "stream",
     "text": [
      "[[240 595]\n",
      " [336 774]]\n",
      "[[240 595]\n",
      " [336 774]]\n"
     ]
    }
   ],
   "source": [
    "import numpy as np\n",
    "A = np.array([[1, 2], [3, 4], [5, 6]])\n",
    "B = np.array([[1, 4], [2, 5], [2, 3]])\n",
    "C = np.array([[52, 43], [12, 51], [27, 73]])\n",
    "# Your code here\n",
    "print(A.T.dot(B+C))\n",
    "print(A.T.dot(B) + A.T.dot(C))\n",
    "\n",
    "assert((A==A).all())#np.equal(A, A))\n",
    "assert((A.T.dot(B+C) == A.T.dot(B) + A.T.dot(C)).all())"
   ]
  },
  {
   "cell_type": "markdown",
   "metadata": {},
   "source": [
    "## Associative Property - matrix multiplication IS associative\n",
    "### Prove that $A \\cdot (B \\cdot C) = (A \\cdot B) \\cdot C $"
   ]
  },
  {
   "cell_type": "code",
   "execution_count": 15,
   "metadata": {},
   "outputs": [
    {
     "name": "stdout",
     "output_type": "stream",
     "text": [
      "[[ 3410  6754  5566]\n",
      " [ 7802 15514 12718]\n",
      " [10850 21654 17658]]\n",
      "[[ 3410  6754  5566]\n",
      " [ 7802 15514 12718]\n",
      " [10850 21654 17658]]\n"
     ]
    }
   ],
   "source": [
    "# Your code here \n",
    "A = np.array([[1, 2, 3], [3, 4, 7], [5, 6, 9]])\n",
    "B = np.array([[1, 12, 3], [3, 14, 7], [5, 16, 9]])\n",
    "C = np.array([[1, 21, 3], [13, 41, 17], [51, 61, 91]])\n",
    "print((A.dot(B)).dot(C))\n",
    "print(A.dot((B.dot(C))))\n",
    "assert(((A.dot(B)).dot(C) ==A.dot((B.dot(C)))).all())"
   ]
  },
  {
   "cell_type": "markdown",
   "metadata": {},
   "source": [
    "## Commutative Property - matrix multiplication is NOT commutative\n",
    "### Prove that for matrices, $A \\cdot B \\neq B \\cdot A $"
   ]
  },
  {
   "cell_type": "code",
   "execution_count": 21,
   "metadata": {},
   "outputs": [
    {
     "name": "stdout",
     "output_type": "stream",
     "text": [
      "[[ 22  88  44]\n",
      " [ 50 204 100]\n",
      " [ 68 288 138]] \n",
      "\n",
      " [[ 52  68 114]\n",
      " [ 80 104 170]\n",
      " [ 98 128 208]]\n"
     ]
    }
   ],
   "source": [
    "# Your code here \n",
    "m1 = A.dot(B)\n",
    "m2 = B.dot(A)\n",
    "print(m1,'\\n\\n', m2)\n",
    "\n",
    "assert((m1 != m2).all())\n"
   ]
  },
  {
   "cell_type": "markdown",
   "metadata": {},
   "source": [
    "## Commutative Property -  vector multiplication IS commutative\n",
    "### Prove that for vectors,  $x^T \\cdot y = y^T \\cdot x$\n",
    "Note: superscipt<sup>T</sup> denotes the transpose we saw earlier"
   ]
  },
  {
   "cell_type": "code",
   "execution_count": 22,
   "metadata": {},
   "outputs": [
    {
     "name": "stdout",
     "output_type": "stream",
     "text": [
      "228 228\n"
     ]
    }
   ],
   "source": [
    "# Your code here \n",
    "x = np.array([1,2,3,4,5,])\n",
    "y = np.array([12,13,4,17,22])\n",
    "s1 = x.T.dot(y)\n",
    "s2 = y.T.dot(x)\n",
    "print(s1, s2)\n",
    "assert(s1==s2)"
   ]
  },
  {
   "cell_type": "markdown",
   "metadata": {},
   "source": [
    "## Simplification of the matrix product\n",
    "### Prove that $ (A \\cdot B)^T = B^T \\cdot A^T $"
   ]
  },
  {
   "cell_type": "code",
   "execution_count": 26,
   "metadata": {},
   "outputs": [
    {
     "name": "stdout",
     "output_type": "stream",
     "text": [
      "[[ 22  50  68]\n",
      " [ 88 204 288]\n",
      " [ 44 100 138]] \n",
      " [[ 22  50  68]\n",
      " [ 88 204 288]\n",
      " [ 44 100 138]]\n"
     ]
    }
   ],
   "source": [
    "# Your code here \n",
    "l = (A.dot(B)).T\n",
    "r = (B.T).dot((A.T))\n",
    "print(l,'\\n', r)\n",
    "assert((l==r).all())"
   ]
  },
  {
   "cell_type": "markdown",
   "metadata": {},
   "source": [
    "## Summary \n",
    "\n",
    "You've seen enough matrix algebra by now to solve a problem of linear equations as you saw earlier. You'll now see how to do this next. "
   ]
  }
 ],
 "metadata": {
  "kernelspec": {
   "display_name": "Python 3",
   "language": "python",
   "name": "python3"
  },
  "language_info": {
   "codemirror_mode": {
    "name": "ipython",
    "version": 3
   },
   "file_extension": ".py",
   "mimetype": "text/x-python",
   "name": "python",
   "nbconvert_exporter": "python",
   "pygments_lexer": "ipython3",
   "version": "3.9.5"
  }
 },
 "nbformat": 4,
 "nbformat_minor": 2
}
